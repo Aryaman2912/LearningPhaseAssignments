{
 "cells": [
  {
   "cell_type": "markdown",
   "metadata": {},
   "source": [
    "# SARSA in windy gridworld\n",
    "***\n",
    "### The gridworld:\n",
    "<img src=\"windy_gridworld.png\" alt=\"The windy gridword\" title=\"Windy gridworld\" width=\"400\"/>\n",
    "\n",
    "#### Choice of actions:\n",
    " - 0: up\n",
    " - 1: down\n",
    " - 2: right\n",
    " - 3: left"
   ]
  },
  {
   "cell_type": "code",
   "execution_count": 1,
   "metadata": {},
   "outputs": [],
   "source": [
    "import numpy as np"
   ]
  },
  {
   "cell_type": "code",
   "execution_count": 2,
   "metadata": {},
   "outputs": [],
   "source": [
    "# public variables about the env\n",
    "START_STATE = 30\n",
    "END_STATE = 37\n",
    "rows = 7\n",
    "columns = 10\n",
    "num_states = rows*columns\n",
    "num_actions = 4"
   ]
  },
  {
   "cell_type": "code",
   "execution_count": 3,
   "metadata": {},
   "outputs": [],
   "source": [
    "def windy(state):\n",
    "    col=state%10\n",
    "    if (col==6 or col==7):\n",
    "        return 2\n",
    "    elif (col>=3 and col<=5 or col==8):\n",
    "        return 1\n",
    "    else:\n",
    "        return 0\n",
    "    \n",
    "def outside_limits(state):\n",
    "    if state<0 or state>69:\n",
    "        return True\n",
    "    else:\n",
    "        return False  "
   ]
  },
  {
   "cell_type": "code",
   "execution_count": 4,
   "metadata": {},
   "outputs": [],
   "source": [
    "def env_step(state, action):\n",
    "    wind = windy(state)\n",
    "    #transition to next state depending on action and wind in current state\n",
    "    if action==0 :\n",
    "        next_state = state - columns - wind*columns\n",
    "        while outside_limits(next_state):\n",
    "            next_state = next_state + columns\n",
    "    elif action==1 :\n",
    "        next_state = state + columns\n",
    "        if outside_limits(next_state):\n",
    "            next_state=state\n",
    "        next_state -= wind*columns\n",
    "        while outside_limits(next_state):\n",
    "            next_state = next_state + columns\n",
    "    elif action==2 :\n",
    "        next_state = state + 1\n",
    "        if state%columns==9:\n",
    "            next_state=state\n",
    "        next_state -= wind*columns\n",
    "        while outside_limits(next_state):\n",
    "            next_state = next_state + columns\n",
    "    elif action==3 :\n",
    "        next_state = state - 1\n",
    "        if state%columns==0:\n",
    "            next_state=state\n",
    "        next_state -= wind*columns\n",
    "        while outside_limits(next_state):\n",
    "            next_state = next_state + columns\n",
    "    # reward at each time step is -1 until the goal is reached\n",
    "    reward = -1\n",
    "    return [next_state, reward]\n",
    "\n"
   ]
  },
  {
   "cell_type": "code",
   "execution_count": 5,
   "metadata": {},
   "outputs": [],
   "source": [
    "def sarsa(alpha, epsilon, gamma, episodes) :\n",
    "    Q = np.zeros((num_states,num_actions))\n",
    "    for episode in range(episodes):\n",
    "        curr_state = START_STATE\n",
    "        # choosing action based on epsion greedy policy over Q\n",
    "        if np.random.random()>epsilon:\n",
    "            # exploit greedy action\n",
    "            curr_action = np.argmax(Q[curr_state])\n",
    "        else:\n",
    "            #explore random action\n",
    "            curr_action = np.random.randint(0,num_actions)\n",
    "        while curr_state!=END_STATE:\n",
    "            next_state, reward = env_step(curr_state, curr_action)\n",
    "            # choosing next action based on epsilon greedy poicy over Q\n",
    "            if np.random.random()>epsilon:\n",
    "                next_action = np.argmax(Q[next_state])\n",
    "            else:\n",
    "                next_action = np.random.randint(0, num_actions)\n",
    "            # updating Q\n",
    "            Q[curr_state, curr_action] += alpha*(reward + gamma*Q[next_state, next_action] - Q[curr_state, curr_action])\n",
    "            curr_state = next_state\n",
    "            curr_action = next_action\n",
    "    return Q"
   ]
  },
  {
   "cell_type": "code",
   "execution_count": 6,
   "metadata": {},
   "outputs": [],
   "source": [
    "def greedy_policy(Q):\n",
    "    pi = np.zeros((rows, columns))\n",
    "    for state in range(num_states):\n",
    "        pi[int(state/10)][state%10] = np.argmax(Q[state])\n",
    "    return pi"
   ]
  },
  {
   "cell_type": "code",
   "execution_count": 7,
   "metadata": {},
   "outputs": [],
   "source": [
    "# public variables setting the parameters\n",
    "alpha = 0.3\n",
    "epsilon = 0.1\n",
    "gamma = 1 # undiscounted task\n",
    "episodes = 8000"
   ]
  },
  {
   "cell_type": "code",
   "execution_count": 8,
   "metadata": {},
   "outputs": [
    {
     "name": "stdout",
     "output_type": "stream",
     "text": [
      "value function after sarsa:  \n",
      "\n",
      " [[-18.13802806 -18.15913542 -18.26329373 -18.15013251]\n",
      " [-18.44747074 -17.76805532 -17.80635995 -18.14067031]\n",
      " [-17.24887441 -17.24570577 -15.23658762 -18.02098559]\n",
      " [-16.03090274 -15.65591872 -14.10268709 -16.83408045]\n",
      " [-14.39303914 -14.1655091  -12.54400734 -15.52514267]\n",
      " [-13.10629431 -13.24971426 -11.64874836 -14.03822091]\n",
      " [-12.02525146 -11.64807454 -10.47596022 -12.42620216]\n",
      " [-10.96375614 -10.56106766  -9.63656953 -12.3903449 ]\n",
      " [ -9.41566104  -9.54177514  -8.32120329 -11.59621292]\n",
      " [ -8.21475012  -6.6998387   -8.42849143 -10.06557301]\n",
      " [-18.46244541 -18.45334535 -17.76554431 -18.55161237]\n",
      " [-18.14590587 -17.70009684 -16.91124684 -17.87559568]\n",
      " [-17.38834901 -17.20046707 -15.35736386 -17.91573836]\n",
      " [-15.12100357 -15.09542622 -13.58949928 -16.51548317]\n",
      " [-14.06413059 -14.23711691 -12.45048744 -14.91787845]\n",
      " [-12.53544263 -12.65770321 -11.5210509  -13.7765586 ]\n",
      " [-12.02673323 -11.61093567 -10.25514993 -12.64564142]\n",
      " [-12.10001046 -11.95181507  -9.29830798 -11.70810275]\n",
      " [-10.17670829 -10.17075522  -9.26347003 -10.58907274]\n",
      " [ -8.83172877  -5.3058337   -7.17596934 -10.60786734]\n",
      " [-18.94605432 -19.04136173 -17.24803176 -19.16146202]\n",
      " [-17.56265076 -17.72695684 -15.8970549  -18.79502918]\n",
      " [-16.74048695 -16.68954378 -14.51058878 -17.55146879]\n",
      " [-14.8600413  -14.87849235 -13.33181171 -16.64407421]\n",
      " [-13.80703026 -13.90140593 -12.6908228  -15.03747669]\n",
      " [-12.90733878 -12.82872153 -11.78746113 -14.04555672]\n",
      " [-13.22684283 -13.08530406 -10.30284256 -12.94576661]\n",
      " [ -9.90520441  -9.40696861  -9.39909614 -10.40887141]\n",
      " [ -9.30952779  -8.65774251  -7.51315516 -10.15523701]\n",
      " [ -8.13750805  -5.01203563  -6.67893114  -8.59498435]\n",
      " [-18.57826366 -18.55450593 -16.91456639 -18.61041119]\n",
      " [-17.57077243 -17.53233503 -15.97950799 -19.17733014]\n",
      " [-16.71547216 -16.29602958 -14.86872317 -17.82097667]\n",
      " [-14.98641093 -14.9469759  -13.66758801 -16.18108277]\n",
      " [-13.96090781 -14.15790936 -13.2415454  -15.16420497]\n",
      " [-14.2505061  -13.8292212  -11.9186952  -14.16209938]\n",
      " [-12.09405996 -12.40608258 -11.0808806  -13.10630897]\n",
      " [  0.           0.           0.           0.        ]\n",
      " [-10.16783529  -8.37846689  -7.46681593 -10.20651913]\n",
      " [ -7.29691084  -3.0051143   -4.84981687  -8.78953387]\n",
      " [-18.21331576 -19.22024446 -17.391253   -18.80767431]\n",
      " [-17.8983081  -18.11543142 -16.22379279 -18.63499731]\n",
      " [-16.47920071 -17.08881604 -15.31893395 -17.98018297]\n",
      " [-14.81356127 -15.18034973 -13.85673065 -15.7167648 ]\n",
      " [-14.25803837 -14.91360289 -13.67954638 -15.76967016]\n",
      " [-13.38301786 -13.47007676 -12.93149068 -13.39719027]\n",
      " [  0.           0.           0.           0.        ]\n",
      " [-10.00349649  -1.          -9.57058627 -10.90578445]\n",
      " [ -8.6295871   -2.00000529  -4.649233    -1.        ]\n",
      " [ -5.31510397  -5.80264275  -5.69591918  -2.00002455]\n",
      " [-18.90317739 -18.44371946 -18.0671303  -18.61651628]\n",
      " [-17.70129874 -17.62616015 -17.03582285 -17.69792395]\n",
      " [-16.200619   -16.64068172 -16.61379276 -17.13265926]\n",
      " [-15.28563648 -16.31388945 -15.78016167 -16.1494534 ]\n",
      " [-14.26259858 -14.30669765 -13.6773984  -15.494617  ]\n",
      " [  0.           0.           0.           0.        ]\n",
      " [  0.           0.           0.           0.        ]\n",
      " [ -5.55411595  -3.0081303   -5.77030304  -7.60216897]\n",
      " [ -7.39156986  -6.325083    -3.47082102  -6.18208057]\n",
      " [ -3.87339383  -5.04632187  -5.87516589  -5.3816382 ]\n",
      " [-17.75006871 -17.92338187 -17.73711264 -18.07634351]\n",
      " [-17.23482978 -17.13956171 -16.91062722 -17.6826352 ]\n",
      " [-16.28760791 -16.04208092 -15.94258562 -16.4771862 ]\n",
      " [-15.24003997 -15.42908864 -14.8380192  -15.63758704]\n",
      " [  0.           0.           0.           0.        ]\n",
      " [  0.           0.           0.           0.        ]\n",
      " [  0.           0.           0.           0.        ]\n",
      " [  0.           0.           0.           0.        ]\n",
      " [ -2.1262881   -5.57109034  -5.92617157  -4.69718792]\n",
      " [ -5.83940254  -5.15619132  -5.41292831  -4.65222454]]\n"
     ]
    }
   ],
   "source": [
    "value_func = sarsa(alpha, epsilon, gamma, episodes)\n",
    "print (\"value function after sarsa:  \\n\\n\", value_func )"
   ]
  },
  {
   "cell_type": "code",
   "execution_count": 9,
   "metadata": {
    "scrolled": true
   },
   "outputs": [
    {
     "name": "stdout",
     "output_type": "stream",
     "text": [
      "policy learnt: \n",
      "\n",
      " [[0. 1. 2. 2. 2. 2. 2. 2. 2. 1.]\n",
      " [2. 2. 2. 2. 2. 2. 2. 2. 2. 1.]\n",
      " [2. 2. 2. 2. 2. 2. 2. 2. 2. 1.]\n",
      " [2. 2. 2. 2. 2. 2. 2. 0. 2. 1.]\n",
      " [2. 2. 2. 2. 2. 2. 0. 1. 3. 3.]\n",
      " [2. 2. 0. 0. 2. 0. 0. 1. 2. 0.]\n",
      " [2. 2. 2. 2. 0. 0. 0. 0. 0. 3.]]\n"
     ]
    }
   ],
   "source": [
    "policy = greedy_policy(value_func)\n",
    "print (\"policy learnt: \\n\\n\", policy)"
   ]
  },
  {
   "cell_type": "markdown",
   "metadata": {},
   "source": [
    "### Visual of the policy learnt:\n",
    "<img src=\"windy_path.png\" alt=\"The windy gridword\" title=\"Windy gridworld\" width=\"400\" />"
   ]
  },
  {
   "cell_type": "code",
   "execution_count": 10,
   "metadata": {},
   "outputs": [],
   "source": [
    "def run(policy):\n",
    "    curr_state = START_STATE\n",
    "    R = 0\n",
    "    while curr_state!=END_STATE:\n",
    "        curr_state,reward= env_step(curr_state, policy[int(curr_state/10)][curr_state%10])\n",
    "        R+=reward\n",
    "    return R"
   ]
  },
  {
   "cell_type": "code",
   "execution_count": 11,
   "metadata": {},
   "outputs": [
    {
     "name": "stdout",
     "output_type": "stream",
     "text": [
      "return from following optimal policy:  -15\n"
     ]
    }
   ],
   "source": [
    "print (\"return from following optimal policy: \", run(policy))"
   ]
  },
  {
   "cell_type": "code",
   "execution_count": null,
   "metadata": {},
   "outputs": [],
   "source": []
  }
 ],
 "metadata": {
  "kernelspec": {
   "display_name": "Python 3",
   "language": "python",
   "name": "python3"
  },
  "language_info": {
   "codemirror_mode": {
    "name": "ipython",
    "version": 3
   },
   "file_extension": ".py",
   "mimetype": "text/x-python",
   "name": "python",
   "nbconvert_exporter": "python",
   "pygments_lexer": "ipython3",
   "version": "3.8.3"
  }
 },
 "nbformat": 4,
 "nbformat_minor": 4
}
